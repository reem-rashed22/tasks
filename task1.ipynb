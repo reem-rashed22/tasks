{
 "cells": [
  {
   "cell_type": "code",
   "execution_count": 1,
   "id": "7888e1d8",
   "metadata": {},
   "outputs": [],
   "source": [
    "import cobra "
   ]
  },
  {
   "cell_type": "code",
   "execution_count": 2,
   "id": "9a23350c",
   "metadata": {},
   "outputs": [],
   "source": [
    "from cobra import Model,Reaction,Metabolite"
   ]
  },
  {
   "cell_type": "code",
   "execution_count": 57,
   "id": "266b01e3",
   "metadata": {},
   "outputs": [],
   "source": [
    "model=Model('first_model')"
   ]
  },
  {
   "cell_type": "code",
   "execution_count": 58,
   "id": "44fddf52",
   "metadata": {},
   "outputs": [],
   "source": [
    "Rec0=Reaction('Rec0')\n",
    "Rec0.name='Rec0'\n",
    "Rec0.lower_bound=1\n",
    "Rec0.upper_bound=1"
   ]
  },
  {
   "cell_type": "code",
   "execution_count": 59,
   "id": "65c28a16",
   "metadata": {},
   "outputs": [],
   "source": [
    "Rec1=Reaction('Rec1')\n",
    "Rec1.name='Rec1'\n",
    "Rec1.lower_bound=0\n",
    "Rec1.upper_bound=1000"
   ]
  },
  {
   "cell_type": "code",
   "execution_count": 60,
   "id": "2b1b2877",
   "metadata": {},
   "outputs": [],
   "source": [
    "Rec2=Reaction('Rec2')\n",
    "Rec2.name='Rec2'\n",
    "Rec2.lower_bound=0\n",
    "Rec2.upper_bound=1000"
   ]
  },
  {
   "cell_type": "code",
   "execution_count": 61,
   "id": "5675bff4",
   "metadata": {},
   "outputs": [],
   "source": [
    "MU=Reaction('MU')\n",
    "MU.name='MU'\n",
    "MU.lower_bound=0\n",
    "MU.upper_bound=1000"
   ]
  },
  {
   "cell_type": "code",
   "execution_count": 62,
   "id": "ae3c0e17",
   "metadata": {},
   "outputs": [],
   "source": [
    "Rec3=Reaction('Rec3')\n",
    "Rec3.name='Rec3'\n",
    "Rec3.lower_bound=0.9\n",
    "Rec3.upper_bound=0.9"
   ]
  },
  {
   "cell_type": "code",
   "execution_count": 63,
   "id": "a5218f38",
   "metadata": {},
   "outputs": [],
   "source": [
    "Rec4=Reaction('Rec4')\n",
    "Rec4.name='Rec4'\n",
    "Rec4.lower_bound=0\n",
    "Rec4.upper_bound=1000"
   ]
  },
  {
   "cell_type": "code",
   "execution_count": 64,
   "id": "c3c45f17",
   "metadata": {},
   "outputs": [],
   "source": [
    "met1=Metabolite('A',compartment='c')\n",
    "met2=Metabolite('B',compartment='c')\n",
    "met3=Metabolite('C',compartment='c')\n",
    "ATP=Metabolite('ATP',compartment='c')"
   ]
  },
  {
   "cell_type": "code",
   "execution_count": 65,
   "id": "404c616a",
   "metadata": {},
   "outputs": [],
   "source": [
    "Rec0.add_metabolites({met1:1})\n",
    "Rec1.add_metabolites({met1:-1,met2:1})\n",
    "Rec2.add_metabolites({met2:-1,met3:1})\n",
    "MU.add_metabolites({met3:-1})\n",
    "Rec3.add_metabolites({ATP:-1})\n",
    "Rec4.add_metabolites({met1:-1,ATP:1})\n"
   ]
  },
  {
   "cell_type": "code",
   "execution_count": 66,
   "id": "0b1f5489",
   "metadata": {},
   "outputs": [],
   "source": [
    "model.add_reactions([Rec0,Rec1,Rec2,Rec3,Rec4,MU])"
   ]
  },
  {
   "cell_type": "code",
   "execution_count": 67,
   "id": "ca4021c5",
   "metadata": {},
   "outputs": [],
   "source": [
    "model.objective = 'MU'"
   ]
  },
  {
   "cell_type": "code",
   "execution_count": 68,
   "id": "98a36124",
   "metadata": {},
   "outputs": [
    {
     "data": {
      "text/html": [
       "<strong><em>Optimal</em> solution with objective value 0.100</strong><br><div>\n",
       "<style scoped>\n",
       "    .dataframe tbody tr th:only-of-type {\n",
       "        vertical-align: middle;\n",
       "    }\n",
       "\n",
       "    .dataframe tbody tr th {\n",
       "        vertical-align: top;\n",
       "    }\n",
       "\n",
       "    .dataframe thead th {\n",
       "        text-align: right;\n",
       "    }\n",
       "</style>\n",
       "<table border=\"1\" class=\"dataframe\">\n",
       "  <thead>\n",
       "    <tr style=\"text-align: right;\">\n",
       "      <th></th>\n",
       "      <th>fluxes</th>\n",
       "      <th>reduced_costs</th>\n",
       "    </tr>\n",
       "  </thead>\n",
       "  <tbody>\n",
       "    <tr>\n",
       "      <th>Rec0</th>\n",
       "      <td>1.0</td>\n",
       "      <td>2.0</td>\n",
       "    </tr>\n",
       "    <tr>\n",
       "      <th>Rec1</th>\n",
       "      <td>0.1</td>\n",
       "      <td>0.0</td>\n",
       "    </tr>\n",
       "    <tr>\n",
       "      <th>Rec2</th>\n",
       "      <td>0.1</td>\n",
       "      <td>0.0</td>\n",
       "    </tr>\n",
       "    <tr>\n",
       "      <th>Rec3</th>\n",
       "      <td>0.9</td>\n",
       "      <td>-2.0</td>\n",
       "    </tr>\n",
       "    <tr>\n",
       "      <th>Rec4</th>\n",
       "      <td>0.9</td>\n",
       "      <td>0.0</td>\n",
       "    </tr>\n",
       "    <tr>\n",
       "      <th>MU</th>\n",
       "      <td>0.1</td>\n",
       "      <td>0.0</td>\n",
       "    </tr>\n",
       "  </tbody>\n",
       "</table>\n",
       "</div>"
      ],
      "text/plain": [
       "<Solution 0.100 at 0x26b1788a370>"
      ]
     },
     "execution_count": 68,
     "metadata": {},
     "output_type": "execute_result"
    }
   ],
   "source": [
    "model.optimize()"
   ]
  },
  {
   "cell_type": "code",
   "execution_count": 69,
   "id": "2c28389d",
   "metadata": {},
   "outputs": [
    {
     "data": {
      "text/html": [
       "<h3>Objective</h3><p>1.0 MU = 0.09999999999999998</p><h4>Uptake</h4><table border=\"1\" class=\"dataframe\">\n",
       "  <thead>\n",
       "    <tr style=\"text-align: right;\">\n",
       "      <th>Metabolite</th>\n",
       "      <th>Reaction</th>\n",
       "      <th>Flux</th>\n",
       "      <th>C-Number</th>\n",
       "      <th>C-Flux</th>\n",
       "    </tr>\n",
       "  </thead>\n",
       "  <tbody>\n",
       "    <tr>\n",
       "      <td>A</td>\n",
       "      <td>Rec0</td>\n",
       "      <td>1</td>\n",
       "      <td>0</td>\n",
       "      <td>0.00%</td>\n",
       "    </tr>\n",
       "  </tbody>\n",
       "</table><h4>Secretion</h4><table border=\"1\" class=\"dataframe\">\n",
       "  <thead>\n",
       "    <tr style=\"text-align: right;\">\n",
       "      <th>Metabolite</th>\n",
       "      <th>Reaction</th>\n",
       "      <th>Flux</th>\n",
       "      <th>C-Number</th>\n",
       "      <th>C-Flux</th>\n",
       "    </tr>\n",
       "  </thead>\n",
       "  <tbody>\n",
       "    <tr>\n",
       "      <td>C</td>\n",
       "      <td>MU</td>\n",
       "      <td>-0.1</td>\n",
       "      <td>0</td>\n",
       "      <td>0.00%</td>\n",
       "    </tr>\n",
       "    <tr>\n",
       "      <td>ATP</td>\n",
       "      <td>Rec3</td>\n",
       "      <td>-0.9</td>\n",
       "      <td>0</td>\n",
       "      <td>0.00%</td>\n",
       "    </tr>\n",
       "  </tbody>\n",
       "</table>"
      ],
      "text/plain": [
       "<cobra.summary.model_summary.ModelSummary at 0x26b176cf9d0>"
      ]
     },
     "execution_count": 69,
     "metadata": {},
     "output_type": "execute_result"
    }
   ],
   "source": [
    "model.summary()"
   ]
  },
  {
   "cell_type": "code",
   "execution_count": null,
   "id": "305ea7ac",
   "metadata": {},
   "outputs": [],
   "source": []
  }
 ],
 "metadata": {
  "kernelspec": {
   "display_name": "Python 3 (ipykernel)",
   "language": "python",
   "name": "python3"
  },
  "language_info": {
   "codemirror_mode": {
    "name": "ipython",
    "version": 3
   },
   "file_extension": ".py",
   "mimetype": "text/x-python",
   "name": "python",
   "nbconvert_exporter": "python",
   "pygments_lexer": "ipython3",
   "version": "3.9.7"
  }
 },
 "nbformat": 4,
 "nbformat_minor": 5
}
